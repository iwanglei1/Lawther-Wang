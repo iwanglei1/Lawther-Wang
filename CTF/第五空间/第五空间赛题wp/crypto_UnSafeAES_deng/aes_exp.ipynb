{
 "cells": [
  {
   "cell_type": "code",
   "execution_count": 1,
   "metadata": {},
   "outputs": [],
   "source": [
    "msg=b'}21s00000000' # make nonce start with 3 b'\\x00'"
   ]
  },
  {
   "cell_type": "code",
   "execution_count": 2,
   "metadata": {},
   "outputs": [],
   "source": [
    "from pwn import remote"
   ]
  },
  {
   "cell_type": "code",
   "execution_count": 3,
   "metadata": {},
   "outputs": [
    {
     "name": "stdout",
     "output_type": "stream",
     "text": [
      "[x] Opening connection to 127.0.0.1 on port 2333\n",
      "[x] Opening connection to 127.0.0.1 on port 2333: Trying 127.0.0.1\n",
      "[+] Opening connection to 127.0.0.1 on port 2333: Done\n"
     ]
    }
   ],
   "source": [
    "re=remote(\"127.0.0.1\", 2333)"
   ]
  },
  {
   "cell_type": "code",
   "execution_count": 4,
   "metadata": {},
   "outputs": [],
   "source": [
    "re.sendline(msg.hex())"
   ]
  },
  {
   "cell_type": "code",
   "execution_count": 5,
   "metadata": {},
   "outputs": [],
   "source": [
    "re.recvuntil(\"MITM: \")\n",
    "l=re.recvline()\n",
    "data1=bytes.fromhex(l.decode())\n",
    "ct1 = data1[:36]\n",
    "tag1 = data1[36:36+16]\n",
    "nonce = data1[36+16:]\n",
    "re.sendline((ct1+tag1+nonce[1:]).hex())"
   ]
  },
  {
   "cell_type": "code",
   "execution_count": 6,
   "metadata": {},
   "outputs": [],
   "source": [
    "re.recvuntil(\"MITM: \")\n",
    "l=re.recvline()\n",
    "data2=bytes.fromhex(l.decode())\n",
    "ct2 = data2[:12]\n",
    "tag2 = data2[12:12+16]\n",
    "re.sendline((ct2+tag2+nonce[2:]).hex())"
   ]
  },
  {
   "cell_type": "code",
   "execution_count": 7,
   "metadata": {},
   "outputs": [],
   "source": [
    "R.<x> = PolynomialRing(GF(2))"
   ]
  },
  {
   "cell_type": "code",
   "execution_count": 8,
   "metadata": {},
   "outputs": [],
   "source": [
    "F.<z> = GF(2^128, modulus=x^128+x^7+x^2+x+1)"
   ]
  },
  {
   "cell_type": "code",
   "execution_count": 9,
   "metadata": {},
   "outputs": [],
   "source": [
    "def fromint(x):\n",
    "    l=ZZ(x).digits(2)\n",
    "    l += [0]*(128-len(l))\n",
    "    return F(l[::-1])\n",
    "def toint(x):\n",
    "    l = bin(x.integer_representation())[:1:-1]\n",
    "    l += \"0\"*(128-len(l))\n",
    "    return int(l,2)"
   ]
  },
  {
   "cell_type": "code",
   "execution_count": 10,
   "metadata": {},
   "outputs": [],
   "source": [
    "def ghash(aad, txt, hashkey):\n",
    "    len_aad = len(aad)\n",
    "    len_txt = len(txt)\n",
    "\n",
    "    if 0 == len_aad % 16:\n",
    "        data = aad\n",
    "    else:\n",
    "        data = aad + b'\\x00' * (16 - len_aad % 16)\n",
    "    if 0 == len_txt % 16:\n",
    "        data += txt\n",
    "    else:\n",
    "        data += txt + b'\\x00' * (16 - len_txt % 16)\n",
    "\n",
    "    tag = 0\n",
    "    assert len(data) % 16 == 0\n",
    "    for i in range(len(data) // 16):\n",
    "        tag += fromint(bytes_to_long(data[i * 16: (i + 1) * 16]))\n",
    "        tag *= hashkey\n",
    "    tag += fromint(((8 * len_aad) << 64) | (8 * len_txt))\n",
    "    tag *= hashkey\n",
    "\n",
    "    return tag"
   ]
  },
  {
   "cell_type": "code",
   "execution_count": 11,
   "metadata": {},
   "outputs": [],
   "source": [
    "from Crypto.Cipher import AES\n",
    "from Crypto.Util.number import bytes_to_long, long_to_bytes"
   ]
  },
  {
   "cell_type": "code",
   "execution_count": 12,
   "metadata": {},
   "outputs": [],
   "source": [
    "P.<X>=PolynomialRing(F)"
   ]
  },
  {
   "cell_type": "code",
   "execution_count": 13,
   "metadata": {},
   "outputs": [],
   "source": [
    "p=ghash(b\"from client\", ct1, X) - fromint(bytes_to_long(tag1)) + ghash(b\"from server\", ct2, X) - fromint(bytes_to_long(tag2))"
   ]
  },
  {
   "cell_type": "code",
   "execution_count": 14,
   "metadata": {},
   "outputs": [],
   "source": [
    "r=choice(p.roots())[0]"
   ]
  },
  {
   "cell_type": "code",
   "execution_count": 15,
   "metadata": {},
   "outputs": [],
   "source": [
    "re.recvuntil(\"MITM: \")\n",
    "l=re.recvline()\n",
    "data3=bytes.fromhex(l.decode())\n",
    "ct3 = data3[:36]\n",
    "tag3 = data3[36:36+16]"
   ]
  },
  {
   "cell_type": "code",
   "execution_count": 16,
   "metadata": {},
   "outputs": [],
   "source": [
    "mct3 = bytearray(ct3)\n",
    "for i in range(4):\n",
    "    mct3[i+11] = ord(\"flag\"[i]) ^^ ord(\"test\"[i]) ^^ mct3[i+11]\n",
    "mct3 = bytes(mct3)"
   ]
  },
  {
   "cell_type": "code",
   "execution_count": 17,
   "metadata": {},
   "outputs": [],
   "source": [
    "mtag3 = long_to_bytes(toint(ghash(b\"from client\", ct3, r) + ghash(b\"from client\", mct3, r) + fromint(bytes_to_long(tag3))))"
   ]
  },
  {
   "cell_type": "code",
   "execution_count": 18,
   "metadata": {},
   "outputs": [],
   "source": [
    "re.sendline((mct3+mtag3+nonce[3:]).hex())"
   ]
  },
  {
   "cell_type": "code",
   "execution_count": 19,
   "metadata": {},
   "outputs": [
    {
     "data": {
      "text/plain": [
       "b'MITM: '"
      ]
     },
     "execution_count": 19,
     "metadata": {},
     "output_type": "execute_result"
    }
   ],
   "source": [
    "re.recvuntil(\"MITM: \")"
   ]
  },
  {
   "cell_type": "code",
   "execution_count": 20,
   "metadata": {},
   "outputs": [
    {
     "name": "stdout",
     "output_type": "stream",
     "text": [
      "b'b613aab3c48c2c55713d14a388524e37e932f5577b62a9c6b80fb4c4fce853bcc3181e152c9e793c4c39ab744fc2\\n'\n"
     ]
    }
   ],
   "source": [
    "l=re.recvline()\n",
    "print(l)"
   ]
  },
  {
   "cell_type": "code",
   "execution_count": 21,
   "metadata": {},
   "outputs": [],
   "source": [
    "data4=bytes.fromhex(l.decode())"
   ]
  },
  {
   "cell_type": "code",
   "execution_count": 22,
   "metadata": {},
   "outputs": [
    {
     "name": "stdout",
     "output_type": "stream",
     "text": [
      "flag{an_example_flag}úë\t"
     ]
    }
   ],
   "source": [
    "for i in range(24):\n",
    "    print(chr(data1[i] ^^ data4[i] ^^ b\"ctf.server/test?message=\"[i]), end=\"\")"
   ]
  },
  {
   "cell_type": "code",
   "execution_count": null,
   "metadata": {},
   "outputs": [],
   "source": []
  }
 ],
 "metadata": {
  "kernelspec": {
   "display_name": "SageMath 9.0",
   "language": "sage",
   "name": "sagemath"
  },
  "language_info": {
   "codemirror_mode": {
    "name": "ipython",
    "version": 3
   },
   "file_extension": ".py",
   "mimetype": "text/x-python",
   "name": "python",
   "nbconvert_exporter": "python",
   "pygments_lexer": "ipython3",
   "version": "3.7.3"
  }
 },
 "nbformat": 4,
 "nbformat_minor": 2
}
